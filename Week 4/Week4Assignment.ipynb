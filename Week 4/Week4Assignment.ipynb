{
 "cells": [
  {
   "cell_type": "markdown",
   "id": "f090c459-9b35-4562-8f28-89415d89bb03",
   "metadata": {},
   "source": [
    "#**Week 4: Individual Assignment- Ishochrones and Mobile Home Parks in Los Angeles**"
   ]
  },
  {
   "cell_type": "markdown",
   "id": "f66b69ae-7948-49e9-8ca2-020dd286f582",
   "metadata": {},
   "source": [
    "Author: Paola Tirado"
   ]
  },
  {
   "cell_type": "markdown",
   "id": "70b70fa8-8fd1-4f08-ab4b-96e00fa68ff1",
   "metadata": {},
   "source": [
    "In this notebook I'll be exploring the Mobile Home Park (MHP) data to get a visualization of where the most populated MPH exists in LA County. I am interested in further exploring what transit options are avaiable to residents of MHP."
   ]
  },
  {
   "cell_type": "markdown",
   "id": "fdd866a2-1988-4306-9a2b-e90194cee5fe",
   "metadata": {},
   "source": [
    "**Importing Libraries & Data**"
   ]
  },
  {
   "cell_type": "markdown",
   "id": "6baa778a-de2a-4e53-b220-da5770a3faf4",
   "metadata": {},
   "source": [
    "First, I will begin by importing the libraries I'll be using for this notebook"
   ]
  },
  {
   "cell_type": "code",
   "execution_count": 1,
   "id": "e97a0540-4a92-4166-afaf-527e61a4aed3",
   "metadata": {},
   "outputs": [],
   "source": [
    "import pandas as pd\n",
    "import geopandas as gdp\n",
    "import matplotlib.pyplot as plt\n",
    "import networkx as nx\n",
    "import osmnx as ox\n",
    "import contextily as ctx"
   ]
  },
  {
   "cell_type": "code",
   "execution_count": 3,
   "id": "b556e628-b20b-42b2-8fd8-cc78bfc2d10c",
   "metadata": {},
   "outputs": [],
   "source": [
    "mhp= pd.read_csv ('Data/CAHCD.csv')"
   ]
  },
  {
   "cell_type": "code",
   "execution_count": 5,
   "id": "0d10de43-9219-450e-98b3-4cd872e10620",
   "metadata": {},
   "outputs": [
    {
     "data": {
      "text/html": [
       "<div>\n",
       "<style scoped>\n",
       "    .dataframe tbody tr th:only-of-type {\n",
       "        vertical-align: middle;\n",
       "    }\n",
       "\n",
       "    .dataframe tbody tr th {\n",
       "        vertical-align: top;\n",
       "    }\n",
       "\n",
       "    .dataframe thead th {\n",
       "        text-align: right;\n",
       "    }\n",
       "</style>\n",
       "<table border=\"1\" class=\"dataframe\">\n",
       "  <thead>\n",
       "    <tr style=\"text-align: right;\">\n",
       "      <th></th>\n",
       "      <th>Park Name</th>\n",
       "      <th>County</th>\n",
       "      <th>Park Identifier</th>\n",
       "      <th>Park Address</th>\n",
       "      <th>Fire Authority</th>\n",
       "      <th>Jurisdiction</th>\n",
       "      <th>MH Spaces</th>\n",
       "      <th>RV Lots W/Drains</th>\n",
       "      <th>RV Lots W/O Drains</th>\n",
       "      <th>Operated by</th>\n",
       "    </tr>\n",
       "  </thead>\n",
       "  <tbody>\n",
       "    <tr>\n",
       "      <th>0</th>\n",
       "      <td>IMPERIAL TRAILER PARK</td>\n",
       "      <td>LOS ANGELES</td>\n",
       "      <td>13-0018-MP</td>\n",
       "      <td>600 N IMPERIAL AVE, HAWTHORNE, CA 90250</td>\n",
       "      <td>COUNTY OF LOS ANGELES, 5823 RICKENBACKER RD., ...</td>\n",
       "      <td>IMPERIAL COUNTY BUILDING DEPARTMENT, 801 MAIN ...</td>\n",
       "      <td>8</td>\n",
       "      <td>0</td>\n",
       "      <td>0</td>\n",
       "      <td>HOLCOM, BRADLEY, PO BOX 3162, SAN DIEGO, CA 92163</td>\n",
       "    </tr>\n",
       "    <tr>\n",
       "      <th>1</th>\n",
       "      <td>CHETS TRAILER PARK</td>\n",
       "      <td>LOS ANGELES</td>\n",
       "      <td>19-0001-MP</td>\n",
       "      <td>4630 W ROSECRANS AVE #OFFICE, LAWNDALE, CA 902...</td>\n",
       "      <td>COUNTY OF LOS ANGELES, 5823 RICKENBACKER RD., ...</td>\n",
       "      <td>HCD - SOUTHERN AREA OFFICE, 3737 MAIN ST 400, ...</td>\n",
       "      <td>49</td>\n",
       "      <td>0</td>\n",
       "      <td>0</td>\n",
       "      <td>DOSHI, NAVINCHANDRA, 6418 SPRING PARK AVE, LOS...</td>\n",
       "    </tr>\n",
       "    <tr>\n",
       "      <th>2</th>\n",
       "      <td>A &amp; A MOBILE HOME PARK</td>\n",
       "      <td>LOS ANGELES</td>\n",
       "      <td>19-0003-MP</td>\n",
       "      <td>7722 ATLANTIC BLVD, CUDAHY, CA 90201, (310) 67...</td>\n",
       "      <td>COUNTY OF LOS ANGELES, 5823 RICKENBACKER RD., ...</td>\n",
       "      <td>HCD - SOUTHERN AREA OFFICE, 3737 MAIN ST 400, ...</td>\n",
       "      <td>21</td>\n",
       "      <td>0</td>\n",
       "      <td>0</td>\n",
       "      <td>A &amp; A MHP LLC, 26895 ALISO CREEK RD #B876, ALI...</td>\n",
       "    </tr>\n",
       "    <tr>\n",
       "      <th>3</th>\n",
       "      <td>ACE TRAILER PARK</td>\n",
       "      <td>LOS ANGELES</td>\n",
       "      <td>19-0006-MP</td>\n",
       "      <td>6508 FLORENCE PL, BELL GARDENS, CA 90201, (213...</td>\n",
       "      <td>COUNTY OF LOS ANGELES, 5823 RICKENBACKER RD., ...</td>\n",
       "      <td>HCD - SOUTHERN AREA OFFICE, 3737 MAIN ST 400, ...</td>\n",
       "      <td>8</td>\n",
       "      <td>0</td>\n",
       "      <td>0</td>\n",
       "      <td>LUELLA PERDEW REVOCABLE TRUST, PO BOX 3259, WI...</td>\n",
       "    </tr>\n",
       "    <tr>\n",
       "      <th>4</th>\n",
       "      <td>ACORN TP</td>\n",
       "      <td>LOS ANGELES</td>\n",
       "      <td>19-0009-MP</td>\n",
       "      <td>2818 DURFEE AVE, EL MONTE, CA 91732, (818) 350...</td>\n",
       "      <td>COUNTY OF LOS ANGELES, 5823 RICKENBACKER RD., ...</td>\n",
       "      <td>HCD - SOUTHERN AREA OFFICE, 3737 MAIN ST 400, ...</td>\n",
       "      <td>20</td>\n",
       "      <td>0</td>\n",
       "      <td>0</td>\n",
       "      <td>PATTERSON, GLEN, PO BOX 1811, MYRTLE CREEK, OR...</td>\n",
       "    </tr>\n",
       "  </tbody>\n",
       "</table>\n",
       "</div>"
      ],
      "text/plain": [
       "                Park Name       County Park Identifier  \\\n",
       "0   IMPERIAL TRAILER PARK  LOS ANGELES      13-0018-MP   \n",
       "1      CHETS TRAILER PARK  LOS ANGELES      19-0001-MP   \n",
       "2  A & A MOBILE HOME PARK  LOS ANGELES      19-0003-MP   \n",
       "3        ACE TRAILER PARK  LOS ANGELES      19-0006-MP   \n",
       "4                ACORN TP  LOS ANGELES      19-0009-MP   \n",
       "\n",
       "                                        Park Address  \\\n",
       "0            600 N IMPERIAL AVE, HAWTHORNE, CA 90250   \n",
       "1  4630 W ROSECRANS AVE #OFFICE, LAWNDALE, CA 902...   \n",
       "2  7722 ATLANTIC BLVD, CUDAHY, CA 90201, (310) 67...   \n",
       "3  6508 FLORENCE PL, BELL GARDENS, CA 90201, (213...   \n",
       "4  2818 DURFEE AVE, EL MONTE, CA 91732, (818) 350...   \n",
       "\n",
       "                                      Fire Authority  \\\n",
       "0  COUNTY OF LOS ANGELES, 5823 RICKENBACKER RD., ...   \n",
       "1  COUNTY OF LOS ANGELES, 5823 RICKENBACKER RD., ...   \n",
       "2  COUNTY OF LOS ANGELES, 5823 RICKENBACKER RD., ...   \n",
       "3  COUNTY OF LOS ANGELES, 5823 RICKENBACKER RD., ...   \n",
       "4  COUNTY OF LOS ANGELES, 5823 RICKENBACKER RD., ...   \n",
       "\n",
       "                                        Jurisdiction  MH Spaces  \\\n",
       "0  IMPERIAL COUNTY BUILDING DEPARTMENT, 801 MAIN ...          8   \n",
       "1  HCD - SOUTHERN AREA OFFICE, 3737 MAIN ST 400, ...         49   \n",
       "2  HCD - SOUTHERN AREA OFFICE, 3737 MAIN ST 400, ...         21   \n",
       "3  HCD - SOUTHERN AREA OFFICE, 3737 MAIN ST 400, ...          8   \n",
       "4  HCD - SOUTHERN AREA OFFICE, 3737 MAIN ST 400, ...         20   \n",
       "\n",
       "   RV Lots W/Drains  RV Lots W/O Drains  \\\n",
       "0                 0                   0   \n",
       "1                 0                   0   \n",
       "2                 0                   0   \n",
       "3                 0                   0   \n",
       "4                 0                   0   \n",
       "\n",
       "                                         Operated by  \n",
       "0  HOLCOM, BRADLEY, PO BOX 3162, SAN DIEGO, CA 92163  \n",
       "1  DOSHI, NAVINCHANDRA, 6418 SPRING PARK AVE, LOS...  \n",
       "2  A & A MHP LLC, 26895 ALISO CREEK RD #B876, ALI...  \n",
       "3  LUELLA PERDEW REVOCABLE TRUST, PO BOX 3259, WI...  \n",
       "4  PATTERSON, GLEN, PO BOX 1811, MYRTLE CREEK, OR...  "
      ]
     },
     "execution_count": 5,
     "metadata": {},
     "output_type": "execute_result"
    }
   ],
   "source": [
    "mhp.head()"
   ]
  },
  {
   "cell_type": "code",
   "execution_count": 6,
   "id": "57a850c0-1f08-4df2-a1e9-06d2e6ffdb01",
   "metadata": {},
   "outputs": [
    {
     "name": "stdout",
     "output_type": "stream",
     "text": [
      "<class 'pandas.core.frame.DataFrame'>\n",
      "RangeIndex: 596 entries, 0 to 595\n",
      "Data columns (total 10 columns):\n",
      " #   Column              Non-Null Count  Dtype \n",
      "---  ------              --------------  ----- \n",
      " 0   Park Name           596 non-null    object\n",
      " 1   County              596 non-null    object\n",
      " 2   Park Identifier     596 non-null    object\n",
      " 3   Park Address        596 non-null    object\n",
      " 4   Fire Authority      596 non-null    object\n",
      " 5   Jurisdiction        596 non-null    object\n",
      " 6   MH Spaces           596 non-null    int64 \n",
      " 7   RV Lots W/Drains    596 non-null    int64 \n",
      " 8   RV Lots W/O Drains  596 non-null    int64 \n",
      " 9   Operated by         595 non-null    object\n",
      "dtypes: int64(3), object(7)\n",
      "memory usage: 46.7+ KB\n"
     ]
    }
   ],
   "source": [
    "mhp.info()"
   ]
  },
  {
   "cell_type": "code",
   "execution_count": null,
   "id": "6f609c6a-b0c7-485b-a4bb-fe4974d0572a",
   "metadata": {},
   "outputs": [],
   "source": []
  }
 ],
 "metadata": {
  "kernelspec": {
   "display_name": "Python 3 (ipykernel)",
   "language": "python",
   "name": "python3"
  },
  "language_info": {
   "codemirror_mode": {
    "name": "ipython",
    "version": 3
   },
   "file_extension": ".py",
   "mimetype": "text/x-python",
   "name": "python",
   "nbconvert_exporter": "python",
   "pygments_lexer": "ipython3",
   "version": "3.9.6"
  }
 },
 "nbformat": 4,
 "nbformat_minor": 5
}
