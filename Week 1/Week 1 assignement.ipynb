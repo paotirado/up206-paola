{
 "cells": [
  {
   "cell_type": "markdown",
   "id": "9cb422cc-0c91-4d16-be32-14ddeb4de580",
   "metadata": {},
   "source": [
    "#Introduction"
   ]
  },
  {
   "cell_type": "markdown",
   "id": "5e469205-06e1-4098-950b-2eb8f5c6b4cb",
   "metadata": {},
   "source": [
    "##This notebook contains data from Los Angeles Department of Transportation (LADOT) Vision Zero High Injury Network. This dataset includes information on the [LA Geo Hub High Injury Network](https://geohub.lacity.org/datasets/ladot::high-injury-network-2/explore?location=34.019486%2C-118.405852%2C10.81), a series of streets in Los Angeles which account for 70% of deaths and severe injuries for people walking. The data was acquired electroically through the LA Geo Hub website, which provides free public records from a series of public agencies in the City."
   ]
  },
  {
   "cell_type": "code",
   "execution_count": 5,
   "id": "ad182d49-b413-46c7-ab29-1c40343acf98",
   "metadata": {},
   "outputs": [],
   "source": [
    "import geopandas as gdp"
   ]
  },
  {
   "cell_type": "code",
   "execution_count": null,
   "id": "60c9e9fc-623e-4262-8be4-fd96021fdc47",
   "metadata": {},
   "outputs": [],
   "source": [
    "highinjurynetwork = gdp.read_file('"
   ]
  },
  {
   "cell_type": "code",
   "execution_count": 6,
   "id": "b60d0499-d9ec-4bba-a621-573513d3ff25",
   "metadata": {},
   "outputs": [
    {
     "ename": "SyntaxError",
     "evalue": "invalid syntax (4138882234.py, line 1)",
     "output_type": "error",
     "traceback": [
      "\u001b[0;36m  File \u001b[0;32m\"/tmp/ipykernel_74/4138882234.py\"\u001b[0;36m, line \u001b[0;32m1\u001b[0m\n\u001b[0;31m    Next I will\u001b[0m\n\u001b[0m         ^\u001b[0m\n\u001b[0;31mSyntaxError\u001b[0m\u001b[0;31m:\u001b[0m invalid syntax\n"
     ]
    }
   ],
   "source": []
  },
  {
   "cell_type": "code",
   "execution_count": null,
   "id": "dfb6d5e6-6e76-406f-8717-3c0da98fd565",
   "metadata": {},
   "outputs": [],
   "source": []
  }
 ],
 "metadata": {
  "kernelspec": {
   "display_name": "Python 3 (ipykernel)",
   "language": "python",
   "name": "python3"
  },
  "language_info": {
   "codemirror_mode": {
    "name": "ipython",
    "version": 3
   },
   "file_extension": ".py",
   "mimetype": "text/x-python",
   "name": "python",
   "nbconvert_exporter": "python",
   "pygments_lexer": "ipython3",
   "version": "3.9.6"
  }
 },
 "nbformat": 4,
 "nbformat_minor": 5
}
