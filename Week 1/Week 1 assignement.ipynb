{
 "cells": [
  {
   "cell_type": "markdown",
   "id": "9cb422cc-0c91-4d16-be32-14ddeb4de580",
   "metadata": {},
   "source": [
    "#Introduction"
   ]
  },
  {
   "cell_type": "markdown",
   "id": "5e469205-06e1-4098-950b-2eb8f5c6b4cb",
   "metadata": {},
   "source": [
    "This notebook contains data from Los Angeles Department of Transportation (LADOT) Vision Zero High Injury Network. This dataset includes information on the [LA Geo Hub High Injury Network](https://geohub.lacity.org/datasets/ladot::high-injury-network-2/explore?location=34.019486%2C-118.405852%2C10.81), a series of streets in Los Angeles which account for 70% of deaths and severe injuries for people walking. The data was acquired electroically through the LA Geo Hub website, which provides free public records from a series of public agencies in the City."
   ]
  },
  {
   "cell_type": "markdown",
   "id": "50908976-9d3b-4056-9ec9-14c69102f948",
   "metadata": {},
   "source": [
    "#Data Exploration"
   ]
  },
  {
   "cell_type": "markdown",
   "id": "19a29928-4532-4e4d-ad89-1eb4154c3359",
   "metadata": {},
   "source": [
    "**Step 1**: Import geopandas module so that I can explore my csv file."
   ]
  },
  {
   "cell_type": "code",
   "execution_count": 5,
   "id": "ad182d49-b413-46c7-ab29-1c40343acf98",
   "metadata": {},
   "outputs": [],
   "source": [
    "import geopandas as gdp"
   ]
  },
  {
   "cell_type": "markdown",
   "id": "f3cb71f1-6055-4d16-969d-1a5bc62e25fe",
   "metadata": {},
   "source": [
    "**Step 2**: Import csv file"
   ]
  },
  {
   "cell_type": "code",
   "execution_count": 7,
   "id": "60c9e9fc-623e-4262-8be4-fd96021fdc47",
   "metadata": {},
   "outputs": [],
   "source": [
    "highinjurynetwork = gdp.read_file('Data/High_Injury_Network.csv')"
   ]
  },
  {
   "cell_type": "code",
   "execution_count": 8,
   "id": "f0e88a25-28cb-4fe6-b04c-18e3e388783b",
   "metadata": {},
   "outputs": [
    {
     "data": {
      "text/plain": [
       "geopandas.geodataframe.GeoDataFrame"
      ]
     },
     "execution_count": 8,
     "metadata": {},
     "output_type": "execute_result"
    }
   ],
   "source": [
    "type(highinjurynetwork)"
   ]
  },
  {
   "cell_type": "markdown",
   "id": "e5b893ba-a6f0-46ab-9f57-0e4f54ca3dd9",
   "metadata": {},
   "source": [
    "#Exploring the Data"
   ]
  },
  {
   "cell_type": "markdown",
   "id": "97848860-9253-4166-874d-b4ffa73b1532",
   "metadata": {},
   "source": [
    "**Step 3**: I want to explore how my data looks, the command shows me 5 rows of the dataframe"
   ]
  },
  {
   "cell_type": "code",
   "execution_count": 9,
   "id": "3421a22e-6a4d-4be4-85ca-f981b30bac82",
   "metadata": {},
   "outputs": [
    {
     "data": {
      "text/html": [
       "<div>\n",
       "<style scoped>\n",
       "    .dataframe tbody tr th:only-of-type {\n",
       "        vertical-align: middle;\n",
       "    }\n",
       "\n",
       "    .dataframe tbody tr th {\n",
       "        vertical-align: top;\n",
       "    }\n",
       "\n",
       "    .dataframe thead th {\n",
       "        text-align: right;\n",
       "    }\n",
       "</style>\n",
       "<table border=\"1\" class=\"dataframe\">\n",
       "  <thead>\n",
       "    <tr style=\"text-align: right;\">\n",
       "      <th></th>\n",
       "      <th>OBJECTID</th>\n",
       "      <th>STNAME</th>\n",
       "      <th>Shape_Leng</th>\n",
       "      <th>Shape_Le_1</th>\n",
       "      <th>FROM_</th>\n",
       "      <th>TO_</th>\n",
       "      <th>GlobalID</th>\n",
       "      <th>geometry</th>\n",
       "    </tr>\n",
       "  </thead>\n",
       "  <tbody>\n",
       "    <tr>\n",
       "      <th>0</th>\n",
       "      <td>1</td>\n",
       "      <td>CENTURY BLVD</td>\n",
       "      <td>8086.42278037</td>\n",
       "      <td>8086.42278037</td>\n",
       "      <td>VERMONT AVE</td>\n",
       "      <td>AVALON BLVD</td>\n",
       "      <td>bb3983d2-6187-447e-9496-f91f9e1e47dc</td>\n",
       "      <td>None</td>\n",
       "    </tr>\n",
       "    <tr>\n",
       "      <th>1</th>\n",
       "      <td>2</td>\n",
       "      <td>FIGUEROA ST</td>\n",
       "      <td>10094.7334563</td>\n",
       "      <td>1.91188133642</td>\n",
       "      <td>COLORADO BLVD</td>\n",
       "      <td>AVENUE 61</td>\n",
       "      <td>acb098aa-5d7d-480f-804f-bb4e3731d37a</td>\n",
       "      <td>None</td>\n",
       "    </tr>\n",
       "    <tr>\n",
       "      <th>2</th>\n",
       "      <td>3</td>\n",
       "      <td>103RD ST</td>\n",
       "      <td>5221.4309503</td>\n",
       "      <td>5221.4309503</td>\n",
       "      <td>CENTRAL AVE</td>\n",
       "      <td>GRAPE ST\\nGRAPE</td>\n",
       "      <td>b6274f91-d568-49ff-91cf-5ff41e23afa4</td>\n",
       "      <td>None</td>\n",
       "    </tr>\n",
       "    <tr>\n",
       "      <th>3</th>\n",
       "      <td>4</td>\n",
       "      <td>MARENGO ST</td>\n",
       "      <td>1031.34609483</td>\n",
       "      <td>1031.34609483</td>\n",
       "      <td>STATE ST</td>\n",
       "      <td>CUMMINGS ST</td>\n",
       "      <td>35ea94e3-3210-4610-bd16-5d6f8e37e7ce</td>\n",
       "      <td>None</td>\n",
       "    </tr>\n",
       "    <tr>\n",
       "      <th>4</th>\n",
       "      <td>5</td>\n",
       "      <td>ALAMEDA ST</td>\n",
       "      <td>8611.91103571</td>\n",
       "      <td>8611.91103571</td>\n",
       "      <td>6TH ST</td>\n",
       "      <td>ALPINE ST\\nALPINE</td>\n",
       "      <td>c9633073-47a3-4057-8023-c0467de5d6eb</td>\n",
       "      <td>None</td>\n",
       "    </tr>\n",
       "  </tbody>\n",
       "</table>\n",
       "</div>"
      ],
      "text/plain": [
       "  OBJECTID        STNAME     Shape_Leng     Shape_Le_1          FROM_  \\\n",
       "0        1  CENTURY BLVD  8086.42278037  8086.42278037    VERMONT AVE   \n",
       "1        2   FIGUEROA ST  10094.7334563  1.91188133642  COLORADO BLVD   \n",
       "2        3      103RD ST   5221.4309503   5221.4309503    CENTRAL AVE   \n",
       "3        4    MARENGO ST  1031.34609483  1031.34609483       STATE ST   \n",
       "4        5    ALAMEDA ST  8611.91103571  8611.91103571         6TH ST   \n",
       "\n",
       "                 TO_                              GlobalID geometry  \n",
       "0        AVALON BLVD  bb3983d2-6187-447e-9496-f91f9e1e47dc     None  \n",
       "1          AVENUE 61  acb098aa-5d7d-480f-804f-bb4e3731d37a     None  \n",
       "2    GRAPE ST\\nGRAPE  b6274f91-d568-49ff-91cf-5ff41e23afa4     None  \n",
       "3        CUMMINGS ST  35ea94e3-3210-4610-bd16-5d6f8e37e7ce     None  \n",
       "4  ALPINE ST\\nALPINE  c9633073-47a3-4057-8023-c0467de5d6eb     None  "
      ]
     },
     "execution_count": 9,
     "metadata": {},
     "output_type": "execute_result"
    }
   ],
   "source": [
    "highinjurynetwork.head()"
   ]
  },
  {
   "cell_type": "markdown",
   "id": "831f865b-8369-4af1-b405-dc465a4a4347",
   "metadata": {},
   "source": []
  }
 ],
 "metadata": {
  "kernelspec": {
   "display_name": "Python 3 (ipykernel)",
   "language": "python",
   "name": "python3"
  },
  "language_info": {
   "codemirror_mode": {
    "name": "ipython",
    "version": 3
   },
   "file_extension": ".py",
   "mimetype": "text/x-python",
   "name": "python",
   "nbconvert_exporter": "python",
   "pygments_lexer": "ipython3",
   "version": "3.9.6"
  }
 },
 "nbformat": 4,
 "nbformat_minor": 5
}
