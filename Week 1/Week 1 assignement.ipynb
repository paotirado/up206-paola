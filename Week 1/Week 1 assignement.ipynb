{
 "cells": [
  {
   "cell_type": "markdown",
   "id": "9cb422cc-0c91-4d16-be32-14ddeb4de580",
   "metadata": {},
   "source": [
    "#Introduction"
   ]
  },
  {
   "cell_type": "markdown",
   "id": "5e469205-06e1-4098-950b-2eb8f5c6b4cb",
   "metadata": {},
   "source": [
    "This notebook contains data from Los Angeles Department of Transportation (LADOT) Vision Zero High Injury Network (HIN). This dataset includes information on the [LA Geo Hub High Injury Network](https://geohub.lacity.org/datasets/ladot::high-injury-network-2/explore?location=34.019486%2C-118.405852%2C10.81), a series of streets in Los Angeles which account for 70% of deaths and severe injuries for people walking. The data was acquired electroically through the LA Geo Hub website, which provides free public records from a series of public agencies in the City."
   ]
  },
  {
   "cell_type": "markdown",
   "id": "50908976-9d3b-4056-9ec9-14c69102f948",
   "metadata": {},
   "source": [
    "#Data Exploration"
   ]
  },
  {
   "cell_type": "markdown",
   "id": "19a29928-4532-4e4d-ad89-1eb4154c3359",
   "metadata": {},
   "source": [
    "**Step 1**: Import geopandas module so that I can explore my csv file."
   ]
  },
  {
   "cell_type": "code",
   "execution_count": 5,
   "id": "ad182d49-b413-46c7-ab29-1c40343acf98",
   "metadata": {},
   "outputs": [],
   "source": [
    "import geopandas as gdp"
   ]
  },
  {
   "cell_type": "markdown",
   "id": "f3cb71f1-6055-4d16-969d-1a5bc62e25fe",
   "metadata": {},
   "source": [
    "**Step 2**: Import csv file"
   ]
  },
  {
   "cell_type": "code",
   "execution_count": 7,
   "id": "60c9e9fc-623e-4262-8be4-fd96021fdc47",
   "metadata": {},
   "outputs": [],
   "source": [
    "highinjurynetwork = gdp.read_file('Data/High_Injury_Network.csv')"
   ]
  },
  {
   "cell_type": "code",
   "execution_count": 8,
   "id": "f0e88a25-28cb-4fe6-b04c-18e3e388783b",
   "metadata": {},
   "outputs": [
    {
     "data": {
      "text/plain": [
       "geopandas.geodataframe.GeoDataFrame"
      ]
     },
     "execution_count": 8,
     "metadata": {},
     "output_type": "execute_result"
    }
   ],
   "source": [
    "type(highinjurynetwork)"
   ]
  },
  {
   "cell_type": "markdown",
   "id": "97848860-9253-4166-874d-b4ffa73b1532",
   "metadata": {},
   "source": [
    "**Step 3**: I want to explore how my data looks, the command shows me 5 rows of the dataframe"
   ]
  },
  {
   "cell_type": "code",
   "execution_count": 9,
   "id": "3421a22e-6a4d-4be4-85ca-f981b30bac82",
   "metadata": {},
   "outputs": [
    {
     "data": {
      "text/html": [
       "<div>\n",
       "<style scoped>\n",
       "    .dataframe tbody tr th:only-of-type {\n",
       "        vertical-align: middle;\n",
       "    }\n",
       "\n",
       "    .dataframe tbody tr th {\n",
       "        vertical-align: top;\n",
       "    }\n",
       "\n",
       "    .dataframe thead th {\n",
       "        text-align: right;\n",
       "    }\n",
       "</style>\n",
       "<table border=\"1\" class=\"dataframe\">\n",
       "  <thead>\n",
       "    <tr style=\"text-align: right;\">\n",
       "      <th></th>\n",
       "      <th>OBJECTID</th>\n",
       "      <th>STNAME</th>\n",
       "      <th>Shape_Leng</th>\n",
       "      <th>Shape_Le_1</th>\n",
       "      <th>FROM_</th>\n",
       "      <th>TO_</th>\n",
       "      <th>GlobalID</th>\n",
       "      <th>geometry</th>\n",
       "    </tr>\n",
       "  </thead>\n",
       "  <tbody>\n",
       "    <tr>\n",
       "      <th>0</th>\n",
       "      <td>1</td>\n",
       "      <td>CENTURY BLVD</td>\n",
       "      <td>8086.42278037</td>\n",
       "      <td>8086.42278037</td>\n",
       "      <td>VERMONT AVE</td>\n",
       "      <td>AVALON BLVD</td>\n",
       "      <td>bb3983d2-6187-447e-9496-f91f9e1e47dc</td>\n",
       "      <td>None</td>\n",
       "    </tr>\n",
       "    <tr>\n",
       "      <th>1</th>\n",
       "      <td>2</td>\n",
       "      <td>FIGUEROA ST</td>\n",
       "      <td>10094.7334563</td>\n",
       "      <td>1.91188133642</td>\n",
       "      <td>COLORADO BLVD</td>\n",
       "      <td>AVENUE 61</td>\n",
       "      <td>acb098aa-5d7d-480f-804f-bb4e3731d37a</td>\n",
       "      <td>None</td>\n",
       "    </tr>\n",
       "    <tr>\n",
       "      <th>2</th>\n",
       "      <td>3</td>\n",
       "      <td>103RD ST</td>\n",
       "      <td>5221.4309503</td>\n",
       "      <td>5221.4309503</td>\n",
       "      <td>CENTRAL AVE</td>\n",
       "      <td>GRAPE ST\\nGRAPE</td>\n",
       "      <td>b6274f91-d568-49ff-91cf-5ff41e23afa4</td>\n",
       "      <td>None</td>\n",
       "    </tr>\n",
       "    <tr>\n",
       "      <th>3</th>\n",
       "      <td>4</td>\n",
       "      <td>MARENGO ST</td>\n",
       "      <td>1031.34609483</td>\n",
       "      <td>1031.34609483</td>\n",
       "      <td>STATE ST</td>\n",
       "      <td>CUMMINGS ST</td>\n",
       "      <td>35ea94e3-3210-4610-bd16-5d6f8e37e7ce</td>\n",
       "      <td>None</td>\n",
       "    </tr>\n",
       "    <tr>\n",
       "      <th>4</th>\n",
       "      <td>5</td>\n",
       "      <td>ALAMEDA ST</td>\n",
       "      <td>8611.91103571</td>\n",
       "      <td>8611.91103571</td>\n",
       "      <td>6TH ST</td>\n",
       "      <td>ALPINE ST\\nALPINE</td>\n",
       "      <td>c9633073-47a3-4057-8023-c0467de5d6eb</td>\n",
       "      <td>None</td>\n",
       "    </tr>\n",
       "  </tbody>\n",
       "</table>\n",
       "</div>"
      ],
      "text/plain": [
       "  OBJECTID        STNAME     Shape_Leng     Shape_Le_1          FROM_  \\\n",
       "0        1  CENTURY BLVD  8086.42278037  8086.42278037    VERMONT AVE   \n",
       "1        2   FIGUEROA ST  10094.7334563  1.91188133642  COLORADO BLVD   \n",
       "2        3      103RD ST   5221.4309503   5221.4309503    CENTRAL AVE   \n",
       "3        4    MARENGO ST  1031.34609483  1031.34609483       STATE ST   \n",
       "4        5    ALAMEDA ST  8611.91103571  8611.91103571         6TH ST   \n",
       "\n",
       "                 TO_                              GlobalID geometry  \n",
       "0        AVALON BLVD  bb3983d2-6187-447e-9496-f91f9e1e47dc     None  \n",
       "1          AVENUE 61  acb098aa-5d7d-480f-804f-bb4e3731d37a     None  \n",
       "2    GRAPE ST\\nGRAPE  b6274f91-d568-49ff-91cf-5ff41e23afa4     None  \n",
       "3        CUMMINGS ST  35ea94e3-3210-4610-bd16-5d6f8e37e7ce     None  \n",
       "4  ALPINE ST\\nALPINE  c9633073-47a3-4057-8023-c0467de5d6eb     None  "
      ]
     },
     "execution_count": 9,
     "metadata": {},
     "output_type": "execute_result"
    }
   ],
   "source": [
    "highinjurynetwork.head()"
   ]
  },
  {
   "cell_type": "markdown",
   "id": "831f865b-8369-4af1-b405-dc465a4a4347",
   "metadata": {},
   "source": [
    "The following command shows me what type of data exists in each column of the dataset. This will help me identify how I can use the data. "
   ]
  },
  {
   "cell_type": "code",
   "execution_count": 10,
   "id": "27e4f11d-5528-43ae-b9b1-4707a0cea47d",
   "metadata": {},
   "outputs": [
    {
     "data": {
      "text/plain": [
       "OBJECTID        object\n",
       "STNAME          object\n",
       "Shape_Leng      object\n",
       "Shape_Le_1      object\n",
       "FROM_           object\n",
       "TO_             object\n",
       "GlobalID        object\n",
       "geometry      geometry\n",
       "dtype: object"
      ]
     },
     "execution_count": 10,
     "metadata": {},
     "output_type": "execute_result"
    }
   ],
   "source": [
    "highinjurynetwork.dtypes"
   ]
  },
  {
   "cell_type": "code",
   "execution_count": 12,
   "id": "696f0a20-fe31-48ed-872c-ab9c247ca1ce",
   "metadata": {},
   "outputs": [
    {
     "name": "stdout",
     "output_type": "stream",
     "text": [
      "<class 'geopandas.geodataframe.GeoDataFrame'>\n",
      "RangeIndex: 386 entries, 0 to 385\n",
      "Data columns (total 8 columns):\n",
      " #   Column      Non-Null Count  Dtype   \n",
      "---  ------      --------------  -----   \n",
      " 0   OBJECTID    386 non-null    object  \n",
      " 1   STNAME      386 non-null    object  \n",
      " 2   Shape_Leng  386 non-null    object  \n",
      " 3   Shape_Le_1  386 non-null    object  \n",
      " 4   FROM_       386 non-null    object  \n",
      " 5   TO_         386 non-null    object  \n",
      " 6   GlobalID    386 non-null    object  \n",
      " 7   geometry    0 non-null      geometry\n",
      "dtypes: geometry(1), object(7)\n",
      "memory usage: 24.2+ KB\n"
     ]
    }
   ],
   "source": [
    "highinjurynetwork.info()"
   ]
  },
  {
   "cell_type": "markdown",
   "id": "fd135f36-8c34-49c9-bb07-ad41b694b6ac",
   "metadata": {},
   "source": [
    "Based on these commands I can tell most of the data are strings, there are 385 entires with 8 colums. Although the data has valuable information, this can be an issue because strings can't be quantifyed; this means there are commands that won't work properly. For example, if I try plotting my data, it will run the command but it won't have any data to display as seen below:"
   ]
  },
  {
   "cell_type": "code",
   "execution_count": 11,
   "id": "9f24da2a-1635-419a-8407-7105e53050a2",
   "metadata": {},
   "outputs": [
    {
     "data": {
      "text/plain": [
       "<AxesSubplot:>"
      ]
     },
     "execution_count": 11,
     "metadata": {},
     "output_type": "execute_result"
    },
    {
     "data": {
      "image/png": "[encoded data removed]",
      "text/plain": [
       "<Figure size 432x288 with 1 Axes>"
      ]
     },
     "metadata": {
      "needs_background": "light"
     },
     "output_type": "display_data"
    }
   ],
   "source": [
    "highinjurynetwork.plot()"
   ]
  },
  {
   "cell_type": "markdown",
   "id": "1b453a16-0790-4858-a798-c4a565a3f1b2",
   "metadata": {},
   "source": [
    "##In oder for the commands to run properly, I must change my dataset to one that includes integers, floats, coordinates, etc...."
   ]
  },
  {
   "cell_type": "markdown",
   "id": "4dfcb7a0-3089-4eda-bb9c-3541a28fc88d",
   "metadata": {},
   "source": [
    "I repeat **step 2** and **step 3** with a new data file. This time I am using the High Injury Network shapefile acquired from the [same website](https://geohub.lacity.org/datasets/ladot::high-injury-network-2/explore?location=34.019486%2C-118.405852%2C10.81) as the previously used csv."
   ]
  },
  {
   "cell_type": "code",
   "execution_count": 13,
   "id": "7695768e-c27e-4194-aed2-240a948b80d2",
   "metadata": {},
   "outputs": [],
   "source": [
    "highinjurynetwork_ = gdp.read_file('Data/High_Injury_Network-shp.zip')"
   ]
  },
  {
   "cell_type": "code",
   "execution_count": 14,
   "id": "017def52-ccdb-431b-92d0-94753a68166f",
   "metadata": {},
   "outputs": [
    {
     "data": {
      "text/plain": [
       "geopandas.geodataframe.GeoDataFrame"
      ]
     },
     "execution_count": 14,
     "metadata": {},
     "output_type": "execute_result"
    }
   ],
   "source": [
    "type(highinjurynetwork_)"
   ]
  },
  {
   "cell_type": "code",
   "execution_count": 15,
   "id": "51c24508-c3bc-4cb3-aefe-50d4caccfb4c",
   "metadata": {},
   "outputs": [
    {
     "data": {
      "text/html": [
       "<div>\n",
       "<style scoped>\n",
       "    .dataframe tbody tr th:only-of-type {\n",
       "        vertical-align: middle;\n",
       "    }\n",
       "\n",
       "    .dataframe tbody tr th {\n",
       "        vertical-align: top;\n",
       "    }\n",
       "\n",
       "    .dataframe thead th {\n",
       "        text-align: right;\n",
       "    }\n",
       "</style>\n",
       "<table border=\"1\" class=\"dataframe\">\n",
       "  <thead>\n",
       "    <tr style=\"text-align: right;\">\n",
       "      <th></th>\n",
       "      <th>OBJECTID</th>\n",
       "      <th>STNAME</th>\n",
       "      <th>Shape_Leng</th>\n",
       "      <th>Shape_Le_1</th>\n",
       "      <th>FROM_</th>\n",
       "      <th>TO_</th>\n",
       "      <th>GlobalID</th>\n",
       "      <th>geometry</th>\n",
       "    </tr>\n",
       "  </thead>\n",
       "  <tbody>\n",
       "    <tr>\n",
       "      <th>0</th>\n",
       "      <td>1</td>\n",
       "      <td>CENTURY BLVD</td>\n",
       "      <td>8086.422780</td>\n",
       "      <td>8086.422780</td>\n",
       "      <td>VERMONT AVE</td>\n",
       "      <td>AVALON BLVD</td>\n",
       "      <td>bb3983d2-6187-447e-9496-f91f9e1e47dc</td>\n",
       "      <td>LINESTRING (-118.29183 33.94550, -118.28263 33...</td>\n",
       "    </tr>\n",
       "    <tr>\n",
       "      <th>1</th>\n",
       "      <td>2</td>\n",
       "      <td>FIGUEROA ST</td>\n",
       "      <td>10094.733456</td>\n",
       "      <td>1.911881</td>\n",
       "      <td>COLORADO BLVD</td>\n",
       "      <td>AVENUE 61</td>\n",
       "      <td>acb098aa-5d7d-480f-804f-bb4e3731d37a</td>\n",
       "      <td>LINESTRING (-118.18844 34.11174, -118.18831 34...</td>\n",
       "    </tr>\n",
       "    <tr>\n",
       "      <th>2</th>\n",
       "      <td>3</td>\n",
       "      <td>103RD ST</td>\n",
       "      <td>5221.430950</td>\n",
       "      <td>5221.430950</td>\n",
       "      <td>CENTRAL AVE</td>\n",
       "      <td>GRAPE ST\\r\\nGRAPE</td>\n",
       "      <td>b6274f91-d568-49ff-91cf-5ff41e23afa4</td>\n",
       "      <td>LINESTRING (-118.23689 33.94315, -118.23752 33...</td>\n",
       "    </tr>\n",
       "    <tr>\n",
       "      <th>3</th>\n",
       "      <td>4</td>\n",
       "      <td>MARENGO ST</td>\n",
       "      <td>1031.346095</td>\n",
       "      <td>1031.346095</td>\n",
       "      <td>STATE ST</td>\n",
       "      <td>CUMMINGS ST</td>\n",
       "      <td>35ea94e3-3210-4610-bd16-5d6f8e37e7ce</td>\n",
       "      <td>LINESTRING (-118.21017 34.05783, -118.20927 34...</td>\n",
       "    </tr>\n",
       "    <tr>\n",
       "      <th>4</th>\n",
       "      <td>5</td>\n",
       "      <td>ALAMEDA ST</td>\n",
       "      <td>8611.911036</td>\n",
       "      <td>8611.911036</td>\n",
       "      <td>6TH ST</td>\n",
       "      <td>ALPINE ST\\r\\nALPINE</td>\n",
       "      <td>c9633073-47a3-4057-8023-c0467de5d6eb</td>\n",
       "      <td>LINESTRING (-118.23630 34.06166, -118.23664 34...</td>\n",
       "    </tr>\n",
       "  </tbody>\n",
       "</table>\n",
       "</div>"
      ],
      "text/plain": [
       "   OBJECTID        STNAME    Shape_Leng   Shape_Le_1          FROM_  \\\n",
       "0         1  CENTURY BLVD   8086.422780  8086.422780    VERMONT AVE   \n",
       "1         2   FIGUEROA ST  10094.733456     1.911881  COLORADO BLVD   \n",
       "2         3      103RD ST   5221.430950  5221.430950    CENTRAL AVE   \n",
       "3         4    MARENGO ST   1031.346095  1031.346095       STATE ST   \n",
       "4         5    ALAMEDA ST   8611.911036  8611.911036         6TH ST   \n",
       "\n",
       "                   TO_                              GlobalID  \\\n",
       "0          AVALON BLVD  bb3983d2-6187-447e-9496-f91f9e1e47dc   \n",
       "1            AVENUE 61  acb098aa-5d7d-480f-804f-bb4e3731d37a   \n",
       "2    GRAPE ST\\r\\nGRAPE  b6274f91-d568-49ff-91cf-5ff41e23afa4   \n",
       "3          CUMMINGS ST  35ea94e3-3210-4610-bd16-5d6f8e37e7ce   \n",
       "4  ALPINE ST\\r\\nALPINE  c9633073-47a3-4057-8023-c0467de5d6eb   \n",
       "\n",
       "                                            geometry  \n",
       "0  LINESTRING (-118.29183 33.94550, -118.28263 33...  \n",
       "1  LINESTRING (-118.18844 34.11174, -118.18831 34...  \n",
       "2  LINESTRING (-118.23689 33.94315, -118.23752 33...  \n",
       "3  LINESTRING (-118.21017 34.05783, -118.20927 34...  \n",
       "4  LINESTRING (-118.23630 34.06166, -118.23664 34...  "
      ]
     },
     "execution_count": 15,
     "metadata": {},
     "output_type": "execute_result"
    }
   ],
   "source": [
    "highinjurynetwork_.head()"
   ]
  },
  {
   "cell_type": "markdown",
   "id": "0652a905-515b-4c92-b08b-e2d23bf87dfe",
   "metadata": {},
   "source": [
    "Based on this command, I can already tell that the shapefile includes geometric data which is a good sign. Next I wil see what type of data exists on this file."
   ]
  },
  {
   "cell_type": "code",
   "execution_count": 16,
   "id": "18f8c6f5-32db-42d1-9191-b6064e46a2c1",
   "metadata": {},
   "outputs": [
    {
     "data": {
      "text/plain": [
       "OBJECTID         int64\n",
       "STNAME          object\n",
       "Shape_Leng     float64\n",
       "Shape_Le_1     float64\n",
       "FROM_           object\n",
       "TO_             object\n",
       "GlobalID        object\n",
       "geometry      geometry\n",
       "dtype: object"
      ]
     },
     "execution_count": 16,
     "metadata": {},
     "output_type": "execute_result"
    }
   ],
   "source": [
    "highinjurynetwork_.dtypes"
   ]
  },
  {
   "cell_type": "code",
   "execution_count": 17,
   "id": "3c09db98-a8ff-4cfe-943a-268bbd50bfb5",
   "metadata": {},
   "outputs": [
    {
     "name": "stdout",
     "output_type": "stream",
     "text": [
      "<class 'geopandas.geodataframe.GeoDataFrame'>\n",
      "RangeIndex: 386 entries, 0 to 385\n",
      "Data columns (total 8 columns):\n",
      " #   Column      Non-Null Count  Dtype   \n",
      "---  ------      --------------  -----   \n",
      " 0   OBJECTID    386 non-null    int64   \n",
      " 1   STNAME      386 non-null    object  \n",
      " 2   Shape_Leng  386 non-null    float64 \n",
      " 3   Shape_Le_1  386 non-null    float64 \n",
      " 4   FROM_       371 non-null    object  \n",
      " 5   TO_         371 non-null    object  \n",
      " 6   GlobalID    386 non-null    object  \n",
      " 7   geometry    386 non-null    geometry\n",
      "dtypes: float64(2), geometry(1), int64(1), object(4)\n",
      "memory usage: 24.2+ KB\n"
     ]
    }
   ],
   "source": [
    "highinjurynetwork_.info()"
   ]
  },
  {
   "cell_type": "markdown",
   "id": "3d093a7a-a93d-43c0-a308-ff1b51e995c1",
   "metadata": {},
   "source": [
    "**Now I can see there are integer and floats, meaning I'll be able to use more commands with this data. I can explore further to see how many rows and columns exists in this dataset.**"
   ]
  },
  {
   "cell_type": "code",
   "execution_count": 19,
   "id": "b7eb310d-24d5-406c-b05f-1f9ce6b98f75",
   "metadata": {},
   "outputs": [
    {
     "data": {
      "text/plain": [
       "(386, 8)"
      ]
     },
     "execution_count": 19,
     "metadata": {},
     "output_type": "execute_result"
    }
   ],
   "source": [
    "highinjurynetwork_.shape"
   ]
  },
  {
   "cell_type": "markdown",
   "id": "5f40e4c7-479e-41c4-9d41-aa0ef47db4d0",
   "metadata": {},
   "source": [
    "Now I know there are 386 rows and 8 columns ( this was also displayed in the info() command right above). Now I want to know what the columns are. Since the the HIN is composed of streets with collision counts, this will help me identify which column I want to get value counts from."
   ]
  },
  {
   "cell_type": "code",
   "execution_count": 20,
   "id": "a23b52bf-ff47-4544-86ad-40e24b0a5832",
   "metadata": {},
   "outputs": [
    {
     "data": {
      "text/plain": [
       "['OBJECTID',\n",
       " 'STNAME',\n",
       " 'Shape_Leng',\n",
       " 'Shape_Le_1',\n",
       " 'FROM_',\n",
       " 'TO_',\n",
       " 'GlobalID',\n",
       " 'geometry']"
      ]
     },
     "execution_count": 20,
     "metadata": {},
     "output_type": "execute_result"
    }
   ],
   "source": [
    "highinjurynetwork_.columns.to_list()"
   ]
  },
  {
   "cell_type": "markdown",
   "id": "3e08c137-1125-4422-b2de-de356b6e3049",
   "metadata": {},
   "source": [
    "I can see that there's a column tiled STNAME, which is the one I will use to see how many collisions were reported in each street listed. "
   ]
  },
  {
   "cell_type": "code",
   "execution_count": 21,
   "id": "1c273f83-6d13-4f98-aa9f-40aeb3bd6d2e",
   "metadata": {},
   "outputs": [
    {
     "data": {
      "text/plain": [
       "VENTURA BLVD        6\n",
       "SEPULVEDA BLVD      6\n",
       "VICTORY BLVD        6\n",
       "NORMANDIE AVE       6\n",
       "FIGUEROA ST         5\n",
       "                   ..\n",
       "OLIVE ST            1\n",
       "11TH ST             1\n",
       "WESTMORELAND AVE    1\n",
       "KENMORE AVE         1\n",
       "22ND ST             1\n",
       "Name: STNAME, Length: 229, dtype: int64"
      ]
     },
     "execution_count": 21,
     "metadata": {},
     "output_type": "execute_result"
    }
   ],
   "source": [
    "highinjurynetwork_['STNAME'].value_counts()"
   ]
  },
  {
   "cell_type": "markdown",
   "id": "03dcdce4-4ac2-4301-81e3-55803bd14433",
   "metadata": {},
   "source": [
    "I will save this as a variable so that I can run commands more easily moving forward."
   ]
  },
  {
   "cell_type": "code",
   "execution_count": 22,
   "id": "86812fb3-3eae-468d-93c7-e1bdba7afa79",
   "metadata": {},
   "outputs": [
    {
     "data": {
      "text/plain": [
       "VENTURA BLVD        6\n",
       "SEPULVEDA BLVD      6\n",
       "VICTORY BLVD        6\n",
       "NORMANDIE AVE       6\n",
       "FIGUEROA ST         5\n",
       "                   ..\n",
       "OLIVE ST            1\n",
       "11TH ST             1\n",
       "WESTMORELAND AVE    1\n",
       "KENMORE AVE         1\n",
       "22ND ST             1\n",
       "Name: STNAME, Length: 229, dtype: int64"
      ]
     },
     "execution_count": 22,
     "metadata": {},
     "output_type": "execute_result"
    }
   ],
   "source": [
    "st_count = highinjurynetwork_['STNAME'].value_counts()\n",
    "st_count"
   ]
  },
  {
   "cell_type": "markdown",
   "id": "cba58170-b285-498c-a4af-3b17f142eb47",
   "metadata": {},
   "source": [
    "**Step 4** I will plot my data to get a visualization. "
   ]
  },
  {
   "cell_type": "code",
   "execution_count": 18,
   "id": "97d9c1f2-1144-4fb3-9b25-a42515a6f49e",
   "metadata": {},
   "outputs": [
    {
     "data": {
      "text/plain": [
       "<AxesSubplot:>"
      ]
     },
     "execution_count": 18,
     "metadata": {},
     "output_type": "execute_result"
    },
    {
     "data": {
      "image/png": "[encoded data removed]",
      "text/plain": [
       "<Figure size 432x288 with 1 Axes>"
      ]
     },
     "metadata": {
      "needs_background": "light"
     },
     "output_type": "display_data"
    }
   ],
   "source": [
    "highinjurynetwork_.plot() "
   ]
  },
  {
   "cell_type": "markdown",
   "id": "f4480a5f-39b6-404a-9b64-c9e8e482ed89",
   "metadata": {},
   "source": [
    "In comparisson to the csv file previously used, I can see that the shapefile was able to plot successfully. I can also plot my new st_count variable."
   ]
  },
  {
   "cell_type": "code",
   "execution_count": 23,
   "id": "b0191f31-7671-4650-8fcb-d8d53441e5c5",
   "metadata": {},
   "outputs": [
    {
     "data": {
      "text/plain": [
       "<AxesSubplot:>"
      ]
     },
     "execution_count": 23,
     "metadata": {},
     "output_type": "execute_result"
    },
    {
     "data": {
      "image/png": "[encoded data removed]",
      "text/plain": [
       "<Figure size 432x288 with 1 Axes>"
      ]
     },
     "metadata": {
      "needs_background": "light"
     },
     "output_type": "display_data"
    }
   ],
   "source": [
    "st_count.plot()"
   ]
  },
  {
   "cell_type": "code",
   "execution_count": 24,
   "id": "88ebfa06-095e-4a9d-a994-284e721d8ba8",
   "metadata": {},
   "outputs": [
    {
     "data": {
      "text/plain": [
       "<AxesSubplot:title={'center':'Number of collisions per street'}>"
      ]
     },
     "execution_count": 24,
     "metadata": {},
     "output_type": "execute_result"
    },
    {
     "data": {
      "image/png": "[encoded data removed]",
      "text/plain": [
       "<Figure size 432x288 with 1 Axes>"
      ]
     },
     "metadata": {
      "needs_background": "light"
     },
     "output_type": "display_data"
    }
   ],
   "source": [
    "st_count.plot.bar(x = 'STNAME' , y = 'count' , title = 'Number of collisions per street')"
   ]
  },
  {
   "cell_type": "markdown",
   "id": "35cb6f35-dc4a-4756-8e62-a4f9e5a26c98",
   "metadata": {},
   "source": [
    "#Trimming the Data"
   ]
  },
  {
   "cell_type": "markdown",
   "id": "dfacef17-64de-4883-84bc-cebef6492ce6",
   "metadata": {},
   "source": [
    "**Step 5** Now that I have explored the data, I will eliminate the ones I don't need."
   ]
  },
  {
   "cell_type": "code",
   "execution_count": null,
   "id": "53fa0648-5c8e-4d9a-a120-43ef4587bbc8",
   "metadata": {},
   "outputs": [],
   "source": []
  }
 ],
 "metadata": {
  "kernelspec": {
   "display_name": "Python 3 (ipykernel)",
   "language": "python",
   "name": "python3"
  },
  "language_info": {
   "codemirror_mode": {
    "name": "ipython",
    "version": 3
   },
   "file_extension": ".py",
   "mimetype": "text/x-python",
   "name": "python",
   "nbconvert_exporter": "python",
   "pygments_lexer": "ipython3",
   "version": "3.9.6"
  }
 },
 "nbformat": 4,
 "nbformat_minor": 5
}
