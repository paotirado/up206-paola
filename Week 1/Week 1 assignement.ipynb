{
 "cells": [
  {
   "cell_type": "markdown",
   "id": "9cb422cc-0c91-4d16-be32-14ddeb4de580",
   "metadata": {},
   "source": [
    "#Introduction"
   ]
  },
  {
   "cell_type": "markdown",
   "id": "5e469205-06e1-4098-950b-2eb8f5c6b4cb",
   "metadata": {},
   "source": [
    "This notebook contains data from Los Angeles Department of Transportation (LADOT) Vision Zero High Injury Network. This dataset includes information on the [LA Geo Hub High Injury Network](https://geohub.lacity.org/datasets/ladot::high-injury-network-2/explore?location=34.019486%2C-118.405852%2C10.81), a series of streets in Los Angeles which account for 70% of deaths and severe injuries for people walking. The data was acquired electroically through the LA Geo Hub website, which provides free public records from a series of public agencies in the City."
   ]
  },
  {
   "cell_type": "markdown",
   "id": "50908976-9d3b-4056-9ec9-14c69102f948",
   "metadata": {},
   "source": [
    "#Data Exploration"
   ]
  },
  {
   "cell_type": "markdown",
   "id": "19a29928-4532-4e4d-ad89-1eb4154c3359",
   "metadata": {},
   "source": [
    "**Step 1**: Import geopandas module so that I can explore my csv file."
   ]
  },
  {
   "cell_type": "code",
   "execution_count": 5,
   "id": "ad182d49-b413-46c7-ab29-1c40343acf98",
   "metadata": {},
   "outputs": [],
   "source": [
    "import geopandas as gdp"
   ]
  },
  {
   "cell_type": "markdown",
   "id": "f3cb71f1-6055-4d16-969d-1a5bc62e25fe",
   "metadata": {},
   "source": [
    "**Step 2**: Import csv file"
   ]
  },
  {
   "cell_type": "code",
   "execution_count": 7,
   "id": "60c9e9fc-623e-4262-8be4-fd96021fdc47",
   "metadata": {},
   "outputs": [],
   "source": [
    "highinjurynetwork = gdp.read_file('Data/High_Injury_Network.csv')"
   ]
  },
  {
   "cell_type": "code",
   "execution_count": 8,
   "id": "f0e88a25-28cb-4fe6-b04c-18e3e388783b",
   "metadata": {},
   "outputs": [
    {
     "data": {
      "text/plain": [
       "geopandas.geodataframe.GeoDataFrame"
      ]
     },
     "execution_count": 8,
     "metadata": {},
     "output_type": "execute_result"
    }
   ],
   "source": [
    "type(highinjurynetwork)"
   ]
  },
  {
   "cell_type": "markdown",
   "id": "e5b893ba-a6f0-46ab-9f57-0e4f54ca3dd9",
   "metadata": {},
   "source": [
    "#Exploring the Data"
   ]
  },
  {
   "cell_type": "markdown",
   "id": "97848860-9253-4166-874d-b4ffa73b1532",
   "metadata": {},
   "source": [
    "**Step 3**: I want to explore how my data looks, the command shows me 5 rows of the dataframe"
   ]
  },
  {
   "cell_type": "code",
   "execution_count": 9,
   "id": "3421a22e-6a4d-4be4-85ca-f981b30bac82",
   "metadata": {},
   "outputs": [
    {
     "data": {
      "text/html": [
       "<div>\n",
       "<style scoped>\n",
       "    .dataframe tbody tr th:only-of-type {\n",
       "        vertical-align: middle;\n",
       "    }\n",
       "\n",
       "    .dataframe tbody tr th {\n",
       "        vertical-align: top;\n",
       "    }\n",
       "\n",
       "    .dataframe thead th {\n",
       "        text-align: right;\n",
       "    }\n",
       "</style>\n",
       "<table border=\"1\" class=\"dataframe\">\n",
       "  <thead>\n",
       "    <tr style=\"text-align: right;\">\n",
       "      <th></th>\n",
       "      <th>OBJECTID</th>\n",
       "      <th>STNAME</th>\n",
       "      <th>Shape_Leng</th>\n",
       "      <th>Shape_Le_1</th>\n",
       "      <th>FROM_</th>\n",
       "      <th>TO_</th>\n",
       "      <th>GlobalID</th>\n",
       "      <th>geometry</th>\n",
       "    </tr>\n",
       "  </thead>\n",
       "  <tbody>\n",
       "    <tr>\n",
       "      <th>0</th>\n",
       "      <td>1</td>\n",
       "      <td>CENTURY BLVD</td>\n",
       "      <td>8086.42278037</td>\n",
       "      <td>8086.42278037</td>\n",
       "      <td>VERMONT AVE</td>\n",
       "      <td>AVALON BLVD</td>\n",
       "      <td>bb3983d2-6187-447e-9496-f91f9e1e47dc</td>\n",
       "      <td>None</td>\n",
       "    </tr>\n",
       "    <tr>\n",
       "      <th>1</th>\n",
       "      <td>2</td>\n",
       "      <td>FIGUEROA ST</td>\n",
       "      <td>10094.7334563</td>\n",
       "      <td>1.91188133642</td>\n",
       "      <td>COLORADO BLVD</td>\n",
       "      <td>AVENUE 61</td>\n",
       "      <td>acb098aa-5d7d-480f-804f-bb4e3731d37a</td>\n",
       "      <td>None</td>\n",
       "    </tr>\n",
       "    <tr>\n",
       "      <th>2</th>\n",
       "      <td>3</td>\n",
       "      <td>103RD ST</td>\n",
       "      <td>5221.4309503</td>\n",
       "      <td>5221.4309503</td>\n",
       "      <td>CENTRAL AVE</td>\n",
       "      <td>GRAPE ST\\nGRAPE</td>\n",
       "      <td>b6274f91-d568-49ff-91cf-5ff41e23afa4</td>\n",
       "      <td>None</td>\n",
       "    </tr>\n",
       "    <tr>\n",
       "      <th>3</th>\n",
       "      <td>4</td>\n",
       "      <td>MARENGO ST</td>\n",
       "      <td>1031.34609483</td>\n",
       "      <td>1031.34609483</td>\n",
       "      <td>STATE ST</td>\n",
       "      <td>CUMMINGS ST</td>\n",
       "      <td>35ea94e3-3210-4610-bd16-5d6f8e37e7ce</td>\n",
       "      <td>None</td>\n",
       "    </tr>\n",
       "    <tr>\n",
       "      <th>4</th>\n",
       "      <td>5</td>\n",
       "      <td>ALAMEDA ST</td>\n",
       "      <td>8611.91103571</td>\n",
       "      <td>8611.91103571</td>\n",
       "      <td>6TH ST</td>\n",
       "      <td>ALPINE ST\\nALPINE</td>\n",
       "      <td>c9633073-47a3-4057-8023-c0467de5d6eb</td>\n",
       "      <td>None</td>\n",
       "    </tr>\n",
       "  </tbody>\n",
       "</table>\n",
       "</div>"
      ],
      "text/plain": [
       "  OBJECTID        STNAME     Shape_Leng     Shape_Le_1          FROM_  \\\n",
       "0        1  CENTURY BLVD  8086.42278037  8086.42278037    VERMONT AVE   \n",
       "1        2   FIGUEROA ST  10094.7334563  1.91188133642  COLORADO BLVD   \n",
       "2        3      103RD ST   5221.4309503   5221.4309503    CENTRAL AVE   \n",
       "3        4    MARENGO ST  1031.34609483  1031.34609483       STATE ST   \n",
       "4        5    ALAMEDA ST  8611.91103571  8611.91103571         6TH ST   \n",
       "\n",
       "                 TO_                              GlobalID geometry  \n",
       "0        AVALON BLVD  bb3983d2-6187-447e-9496-f91f9e1e47dc     None  \n",
       "1          AVENUE 61  acb098aa-5d7d-480f-804f-bb4e3731d37a     None  \n",
       "2    GRAPE ST\\nGRAPE  b6274f91-d568-49ff-91cf-5ff41e23afa4     None  \n",
       "3        CUMMINGS ST  35ea94e3-3210-4610-bd16-5d6f8e37e7ce     None  \n",
       "4  ALPINE ST\\nALPINE  c9633073-47a3-4057-8023-c0467de5d6eb     None  "
      ]
     },
     "execution_count": 9,
     "metadata": {},
     "output_type": "execute_result"
    }
   ],
   "source": [
    "highinjurynetwork.head()"
   ]
  },
  {
   "cell_type": "markdown",
   "id": "831f865b-8369-4af1-b405-dc465a4a4347",
   "metadata": {},
   "source": [
    "The following command shows me what type of data exists in each column of the dataset. This will help me identify how I can use the data. "
   ]
  },
  {
   "cell_type": "code",
   "execution_count": 10,
   "id": "27e4f11d-5528-43ae-b9b1-4707a0cea47d",
   "metadata": {},
   "outputs": [
    {
     "data": {
      "text/plain": [
       "OBJECTID        object\n",
       "STNAME          object\n",
       "Shape_Leng      object\n",
       "Shape_Le_1      object\n",
       "FROM_           object\n",
       "TO_             object\n",
       "GlobalID        object\n",
       "geometry      geometry\n",
       "dtype: object"
      ]
     },
     "execution_count": 10,
     "metadata": {},
     "output_type": "execute_result"
    }
   ],
   "source": [
    "highinjurynetwork.dtypes"
   ]
  },
  {
   "cell_type": "code",
   "execution_count": 12,
   "id": "696f0a20-fe31-48ed-872c-ab9c247ca1ce",
   "metadata": {},
   "outputs": [
    {
     "name": "stdout",
     "output_type": "stream",
     "text": [
      "<class 'geopandas.geodataframe.GeoDataFrame'>\n",
      "RangeIndex: 386 entries, 0 to 385\n",
      "Data columns (total 8 columns):\n",
      " #   Column      Non-Null Count  Dtype   \n",
      "---  ------      --------------  -----   \n",
      " 0   OBJECTID    386 non-null    object  \n",
      " 1   STNAME      386 non-null    object  \n",
      " 2   Shape_Leng  386 non-null    object  \n",
      " 3   Shape_Le_1  386 non-null    object  \n",
      " 4   FROM_       386 non-null    object  \n",
      " 5   TO_         386 non-null    object  \n",
      " 6   GlobalID    386 non-null    object  \n",
      " 7   geometry    0 non-null      geometry\n",
      "dtypes: geometry(1), object(7)\n",
      "memory usage: 24.2+ KB\n"
     ]
    }
   ],
   "source": [
    "highinjurynetwork.info()"
   ]
  },
  {
   "cell_type": "markdown",
   "id": "fd135f36-8c34-49c9-bb07-ad41b694b6ac",
   "metadata": {},
   "source": [
    "Based on these commands I can tell most of the data are strings, there are 385 entires with 8 colums. This can be an issue because strings can't be quantifyed meaning there are commands that won't work propoerly. For example, if I try plotting my data, it will run the command but it won't have any data to display as seen below:"
   ]
  },
  {
   "cell_type": "code",
   "execution_count": 11,
   "id": "9f24da2a-1635-419a-8407-7105e53050a2",
   "metadata": {},
   "outputs": [
    {
     "data": {
      "text/plain": [
       "<AxesSubplot:>"
      ]
     },
     "execution_count": 11,
     "metadata": {},
     "output_type": "execute_result"
    },
    {
     "data": {
      "image/png": "[encoded data removed]",
      "text/plain": [
       "<Figure size 432x288 with 1 Axes>"
      ]
     },
     "metadata": {
      "needs_background": "light"
     },
     "output_type": "display_data"
    }
   ],
   "source": [
    "highinjurynetwork.plot()"
   ]
  },
  {
   "cell_type": "markdown",
   "id": "e9ac9b1a-876f-4b05-875c-73f5f5cf9e42",
   "metadata": {},
   "source": []
  }
 ],
 "metadata": {
  "kernelspec": {
   "display_name": "Python 3 (ipykernel)",
   "language": "python",
   "name": "python3"
  },
  "language_info": {
   "codemirror_mode": {
    "name": "ipython",
    "version": 3
   },
   "file_extension": ".py",
   "mimetype": "text/x-python",
   "name": "python",
   "nbconvert_exporter": "python",
   "pygments_lexer": "ipython3",
   "version": "3.9.6"
  }
 },
 "nbformat": 4,
 "nbformat_minor": 5
}
