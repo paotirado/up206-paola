{
 "cells": [
  {
   "cell_type": "code",
   "execution_count": 8,
   "id": "efdaefce-65a6-47ee-ab1b-c0ef0a433a4f",
   "metadata": {},
   "outputs": [],
   "source": [
    "# Introduction"
   ]
  },
  {
   "cell_type": "code",
   "execution_count": 11,
   "id": "11605c6f-8d61-47ee-a081-b1d993f3379b",
   "metadata": {},
   "outputs": [],
   "source": [
    "## This notebook contains data from Los Angeles Department of Transportation (LADOT) Vision Zero High Injury Network. This dataset includes information on the [LA Geo Hub High Injury Network](https://geohub.lacity.org/datasets/ladot::high-injury-network-2/explore?location=34.019486%2C-118.405852%2C10.81), a series of streets in Los Angeles which account for 70% of deaths and severe injuries for people walking. The data was acquired electroically through the LA Geo Hub website, which provides free public records from a series of public agencies in the City."
   ]
  },
  {
   "cell_type": "code",
   "execution_count": 3,
   "id": "ad182d49-b413-46c7-ab29-1c40343acf98",
   "metadata": {},
   "outputs": [],
   "source": []
  },
  {
   "cell_type": "code",
   "execution_count": null,
   "id": "60c9e9fc-623e-4262-8be4-fd96021fdc47",
   "metadata": {},
   "outputs": [],
   "source": []
  }
 ],
 "metadata": {
  "kernelspec": {
   "display_name": "Python 3 (ipykernel)",
   "language": "python",
   "name": "python3"
  },
  "language_info": {
   "codemirror_mode": {
    "name": "ipython",
    "version": 3
   },
   "file_extension": ".py",
   "mimetype": "text/x-python",
   "name": "python",
   "nbconvert_exporter": "python",
   "pygments_lexer": "ipython3",
   "version": "3.9.6"
  }
 },
 "nbformat": 4,
 "nbformat_minor": 5
}
