{
 "cells": [
  {
   "cell_type": "markdown",
   "id": "9514876c-0b60-4501-b5b4-b527bac78de1",
   "metadata": {},
   "source": [
    "#**Census Data Exploration: Race & Ethnicity in Los Angeles**"
   ]
  },
  {
   "cell_type": "markdown",
   "id": "92ade9de-711d-4de5-afa0-7b8b17de89c5",
   "metadata": {},
   "source": [
    "This notebok explores race and ethnicity populations by census tract in Los Angeles acquired from Census American Community Survey (ACS) 2019 5-year estimate. This data is valuable to our project because it will help us identify demographics in census tracts where mobile homes exists and give us an understanding if there are higher populations of spcecific racial/ethnic groups living in mobile home parks. "
   ]
  },
  {
   "cell_type": "markdown",
   "id": "429a3f52-2f52-4ab9-abdf-40eabc4bfbc6",
   "metadata": {},
   "source": [
    "#**Importing Data**"
   ]
  },
  {
   "cell_type": "markdown",
   "id": "fd1c9c22-7a9f-4700-a41e-963a16cfda0d",
   "metadata": {},
   "source": [
    "**Step 1**: Import spatial data libraries that will help me create graphs, charts, and maps."
   ]
  },
  {
   "cell_type": "code",
   "execution_count": 2,
   "id": "a7ed0cb9-d6ed-457a-8c82-145976c07555",
   "metadata": {},
   "outputs": [],
   "source": [
    "import pandas as pd\n",
    "import geopandas as gdp\n",
    "import contextily as ctx\n",
    "import matplotlib.pyplot as plt"
   ]
  },
  {
   "cell_type": "markdown",
   "id": "cadf06a5-1924-45a5-a74b-62ce4359c0c2",
   "metadata": {},
   "source": [
    "**Step 2:** Import ACS Census data zipfile"
   ]
  },
  {
   "cell_type": "code",
   "execution_count": 4,
   "id": "357795c0-2546-47b6-93ce-134ccdf2b07d",
   "metadata": {},
   "outputs": [],
   "source": [
    "gdf = gdp.read_file('Data/ACS Demographics.zip')"
   ]
  },
  {
   "cell_type": "markdown",
   "id": "67271b9c-d842-4edb-ba16-dc324ae6d065",
   "metadata": {},
   "source": [
    "#**Data Exploration**"
   ]
  },
  {
   "cell_type": "code",
   "execution_count": null,
   "id": "4b564de4-f616-45af-b569-d5ab6a118a1e",
   "metadata": {},
   "outputs": [],
   "source": []
  }
 ],
 "metadata": {
  "kernelspec": {
   "display_name": "Python 3 (ipykernel)",
   "language": "python",
   "name": "python3"
  },
  "language_info": {
   "codemirror_mode": {
    "name": "ipython",
    "version": 3
   },
   "file_extension": ".py",
   "mimetype": "text/x-python",
   "name": "python",
   "nbconvert_exporter": "python",
   "pygments_lexer": "ipython3",
   "version": "3.9.6"
  }
 },
 "nbformat": 4,
 "nbformat_minor": 5
}
